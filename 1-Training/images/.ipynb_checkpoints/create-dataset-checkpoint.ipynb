{
 "cells": [
  {
   "cell_type": "markdown",
   "metadata": {},
   "source": [
    "# Datasets"
   ]
  },
  {
   "cell_type": "markdown",
   "metadata": {},
   "source": [
    "The AzureML studio allows the user to manage their datasets directly inside the portal.\n",
    "\n",
    "A Dataset is a resource for exploring, transforming and managing data in Azure Machine Learning. Datasets enable:\n",
    "\n",
    "* Easy access to data: without worrying about connection strings or data paths. Only keep a single copy of data in the storage service of your choice.\n",
    "\n",
    "* Training with big data: seamless integration with Azure Machine Learning features like labelling, training products and pipelines. Users can share and reuse datasets in various experiments.\n",
    "\n",
    "* Tracking data usage: Azure ML automatically tracks which version of the dataset was used for the ML experiment and produced which model."
   ]
  },
  {
   "cell_type": "markdown",
   "metadata": {},
   "source": [
    "## Creating a Dataset in AzureML studio\n",
    "\n",
    "1. Navigate to the left pane of your workspace. Select Datasets under the Assets section. \n",
    "\n",
    "![](datasets.png)\n",
    "\n",
    "2. Click on 'Create dataset' and choose 'From datastore'. \n",
    "\n",
    "![](from-datastore.png)\n",
    "\n",
    "3. Fill out Basic Info section of the Create dataset dialog.\n",
    "  * Select Tabular Dataset type.\n",
    "  * Select 'tfworld' datastore.\n",
    "  * Select 'azure-service-classifier/data/train.csv' file in the Path field.\n",
    "  * Then click 'Next'.\n",
    "  \n",
    "![](create-dataset-basic.png)\n",
    "\n",
    "4. Check settings and click 'Next' on the 'Settings and preview' screen.\n",
    "\n",
    "![](create-dataset-settings.png)\n",
    "\n",
    "5. Check schema settings and click 'Next' on the 'Schema' screen.\n",
    "\n",
    "![](create-dataset-schema.png)\n",
    "\n",
    "6. Click on 'Profile this dataset after creation' option in the 'Confirm details' screen. \n",
    "  * Select 'v100cluster' in the 'Select compute for profiling' drop down. \n",
    "  * Then click 'Create'.\n",
    "\n",
    "![](create-dataset-confirm.png)"
   ]
  },
  {
   "cell_type": "markdown",
   "metadata": {},
   "source": [
    "## Exploring the Dataset\n",
    "\n",
    "1. Now, click on the newly created dataset.\n",
    "  * Wait until profile run finishes running, as indicated by 'Profile' field when it starts to point to a specific Run ID.\n",
    "  \n",
    "![](dataset-explore.png)\n",
    "\n",
    "2. Click on 'Explore'. Here you can see the fields of the Tabular dataset and it's data. To get more details (in particulare for larger datasets), click on 'Profile'. This tab shows distribution of column values and other statistics about the data.\n",
    "\n",
    "![](dataset-profile.png)"
   ]
  },
  {
   "cell_type": "markdown",
   "metadata": {},
   "source": [
    "For more information on datasets, see the how-to for more information on creating and using Datasets. https://docs.microsoft.com/en-us/azure/machine-learning/service/how-to-create-register-datasets"
   ]
  }
 ],
 "metadata": {
  "kernelspec": {
   "display_name": "Python 3.6 - AzureML",
   "language": "python",
   "name": "python3-azureml"
  },
  "language_info": {
   "codemirror_mode": {
    "name": "ipython",
    "version": 3
   },
   "file_extension": ".py",
   "mimetype": "text/x-python",
   "name": "python",
   "nbconvert_exporter": "python",
   "pygments_lexer": "ipython3",
   "version": "3.6.9"
  }
 },
 "nbformat": 4,
 "nbformat_minor": 2
}
