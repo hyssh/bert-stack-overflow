{
 "cells": [
  {
   "cell_type": "code",
   "execution_count": null,
   "id": "5190daba",
   "metadata": {
    "scrolled": true
   },
   "outputs": [],
   "source": [
    "%pip install datasets "
   ]
  },
  {
   "cell_type": "code",
   "execution_count": null,
   "id": "38b5e6bd",
   "metadata": {},
   "outputs": [],
   "source": [
    "%pip install --upgrade transformers"
   ]
  },
  {
   "cell_type": "code",
   "execution_count": null,
   "id": "b4178761",
   "metadata": {},
   "outputs": [],
   "source": [
    "import copy\n",
    "import pandas as pd\n",
    "import numpy as np\n",
    "import matplotlib.pyplot as plt\n",
    "%matplotlib inline\n",
    "from transformers import AutoTokenizer, AutoModelForSequenceClassification\n",
    "import shap\n",
    "import scipy as sp\n",
    "from datasets import load_dataset\n",
    "import torch"
   ]
  },
  {
   "cell_type": "code",
   "execution_count": null,
   "id": "69709c2b",
   "metadata": {},
   "outputs": [],
   "source": [
    "dataset  = load_dataset(\"emotion\", split = \"train\")\n",
    "data = pd.DataFrame({'text':dataset['text'],'emotion':dataset['label']})"
   ]
  },
  {
   "cell_type": "code",
   "execution_count": null,
   "id": "7e380933",
   "metadata": {},
   "outputs": [],
   "source": [
    "data.head(3)"
   ]
  },
  {
   "cell_type": "code",
   "execution_count": null,
   "id": "33623cf6",
   "metadata": {},
   "outputs": [],
   "source": [
    "tokenizer = AutoTokenizer.from_pretrained(\"nateraw/bert-base-uncased-emotion\",use_fast=True)\n",
    "model = AutoModelForSequenceClassification.from_pretrained(\"nateraw/bert-base-uncased-emotion\").cuda()\n",
    "\n",
    "# tokenizer = AutoTokenizer.from_pretrained(\"bert-base-uncased\",use_fast=True)\n",
    "# model = AutoModelForSequenceClassification.from_pretrained(\"bert-base-uncased\")"
   ]
  },
  {
   "cell_type": "code",
   "execution_count": null,
   "id": "6160bc6e",
   "metadata": {},
   "outputs": [],
   "source": [
    "# set mapping between label and id\n",
    "id2label = {\n",
    "    \"0\": \"sadness\",\n",
    "    \"1\": \"joy\",\n",
    "    \"2\": \"love\",\n",
    "    \"3\": \"anger\",\n",
    "    \"4\": \"fear\",\n",
    "    \"5\": \"surprise\"\n",
    "  }\n",
    "label2id = {\n",
    "    \"anger\": 3,\n",
    "    \"fear\": 4,\n",
    "    \"joy\": 1,\n",
    "    \"love\": 2,\n",
    "    \"sadness\": 0,\n",
    "    \"surprise\": 5\n",
    "  }\n",
    "labels = sorted(label2id, key=label2id.get)"
   ]
  },
  {
   "cell_type": "code",
   "execution_count": null,
   "id": "8e4c913f",
   "metadata": {},
   "outputs": [],
   "source": [
    "ax = data.emotion.map(id2label).value_counts().plot.bar()\n",
    "\n"
   ]
  },
  {
   "cell_type": "code",
   "execution_count": null,
   "id": "e6f6d6de",
   "metadata": {},
   "outputs": [],
   "source": [
    "def f(x):\n",
    "    tv = torch.tensor([tokenizer.encode(v, padding='max_length', max_length=128,truncation=True) for v in x])\n",
    "    attention_mask = (tv!=0).type(torch.int64).cuda()\n",
    "    outputs = model(tv,attention_mask=attention_mask)[0].detach().cpu().numpy()\n",
    "    scores = (np.exp(outputs).T / np.exp(outputs).sum(-1)).T\n",
    "    val = sp.special.logit(scores)\n",
    "    return val"
   ]
  },
  {
   "cell_type": "code",
   "execution_count": null,
   "id": "c08329b0",
   "metadata": {},
   "outputs": [],
   "source": [
    "# explainer = shap.Explainer(f,tokenizer,output_names=labels)\n",
    "shap.Explainer(model=model)\n"
   ]
  },
  {
   "cell_type": "code",
   "execution_count": null,
   "id": "9a20741f",
   "metadata": {},
   "outputs": [],
   "source": [
    "shap_values = explainer(data['text'][0:50])\n"
   ]
  },
  {
   "cell_type": "code",
   "execution_count": null,
   "id": "88127d4b",
   "metadata": {},
   "outputs": [],
   "source": [
    "import transformers\n",
    "import datasets\n",
    "import shap\n",
    "import numpy as np"
   ]
  },
  {
   "cell_type": "code",
   "execution_count": null,
   "id": "b6b2b218",
   "metadata": {},
   "outputs": [],
   "source": [
    "dataset = datasets.load_dataset(\"imdb\", split=\"test\")\n",
    "\n",
    "# shorten the strings to fit into the pipeline model\n",
    "short_data = [v[:500] for v in dataset[\"text\"][:20]]"
   ]
  },
  {
   "cell_type": "code",
   "execution_count": null,
   "id": "efa097c0",
   "metadata": {},
   "outputs": [],
   "source": [
    "classifier = transformers.pipeline('sentiment-analysis', return_all_scores=True)\n",
    "classifier(short_data[:2])"
   ]
  },
  {
   "cell_type": "code",
   "execution_count": null,
   "id": "8485c66b",
   "metadata": {},
   "outputs": [],
   "source": [
    "# define the explainer\n",
    "explainer = shap.Explainer(classifier)"
   ]
  },
  {
   "cell_type": "code",
   "execution_count": null,
   "id": "5355f798",
   "metadata": {},
   "outputs": [],
   "source": [
    "# explain the predictions of the pipeline on the first two samples\n",
    "shap_values = explainer(short_data[:2])"
   ]
  },
  {
   "cell_type": "code",
   "execution_count": null,
   "id": "1e3ba2d7",
   "metadata": {},
   "outputs": [],
   "source": [
    "shap.plots.text(shap_values[:,:,\"POSITIVE\"])"
   ]
  },
  {
   "cell_type": "code",
   "execution_count": null,
   "id": "2e656351",
   "metadata": {},
   "outputs": [],
   "source": []
  },
  {
   "cell_type": "code",
   "execution_count": null,
   "id": "6b524e60",
   "metadata": {},
   "outputs": [],
   "source": [
    "# This model training code is directly from:\n",
    "# https://github.com/keras-team/keras/blob/master/examples/imdb_lstm.py\n",
    "\n",
    "'''Trains an LSTM model on the IMDB sentiment classification task.\n",
    "The dataset is actually too small for LSTM to be of any advantage\n",
    "compared to simpler, much faster methods such as TF-IDF + LogReg.\n",
    "# Notes\n",
    "- RNNs are tricky. Choice of batch size is important,\n",
    "choice of loss and optimizer is critical, etc.\n",
    "Some configurations won't converge.\n",
    "- LSTM loss decrease patterns during training can be quite different\n",
    "from what you see with CNNs/MLPs/etc.\n",
    "'''\n",
    "from __future__ import print_function\n",
    "\n",
    "from keras.preprocessing import sequence\n",
    "from keras.models import Sequential\n",
    "from keras.layers import Dense, Embedding\n",
    "from keras.layers import LSTM\n",
    "from keras.datasets import imdb\n",
    "\n",
    "max_features = 20000\n",
    "maxlen = 80  # cut texts after this number of words (among top max_features most common words)\n",
    "batch_size = 32\n",
    "\n",
    "print('Loading data...')\n",
    "(x_train, y_train), (x_test, y_test) = imdb.load_data(num_words=max_features)\n",
    "print(len(x_train), 'train sequences')\n",
    "print(len(x_test), 'test sequences')\n",
    "\n",
    "print('Pad sequences (samples x time)')\n",
    "x_train = sequence.pad_sequences(x_train, maxlen=maxlen)\n",
    "x_test = sequence.pad_sequences(x_test, maxlen=maxlen)\n",
    "print('x_train shape:', x_train.shape)\n",
    "print('x_test shape:', x_test.shape)\n",
    "\n",
    "print('Build model...')\n",
    "model = Sequential()\n",
    "model.add(Embedding(max_features, 128))\n",
    "model.add(LSTM(128, dropout=0.2, recurrent_dropout=0.2))\n",
    "model.add(Dense(1, activation='sigmoid'))\n",
    "\n",
    "# try using different optimizers and different optimizer configs\n",
    "model.compile(loss='binary_crossentropy',\n",
    "              optimizer='adam',\n",
    "              metrics=['accuracy'])\n",
    "\n",
    "print('Train...')\n",
    "model.fit(x_train, y_train,\n",
    "          batch_size=batch_size,\n",
    "          epochs=15,\n",
    "          validation_data=(x_test, y_test))\n",
    "score, acc = model.evaluate(x_test, y_test,\n",
    "                            batch_size=batch_size)\n",
    "print('Test score:', score)\n",
    "print('Test accuracy:', acc)"
   ]
  },
  {
   "cell_type": "code",
   "execution_count": null,
   "id": "e1f5ab8e",
   "metadata": {},
   "outputs": [],
   "source": [
    "import shap\n",
    "\n",
    "# we use the first 100 training examples as our background dataset to integrate over\n",
    "# explainer = shap.DeepExplainer(model, x_train[:100])\n",
    "explainer = shap.Explainer(model)\n",
    "# explain the first 10 predictions\n",
    "# explaining each prediction requires 2 * background dataset size runs\n",
    "\n",
    "shap_values = explainer(x_train[:100])\n",
    "shap.plots.text(shap_values)\n",
    "\n",
    "shap_values = explainer.shap_values(x_test[:10])"
   ]
  },
  {
   "cell_type": "code",
   "execution_count": null,
   "id": "5a88249e",
   "metadata": {},
   "outputs": [],
   "source": [
    "# init the JS visualization code\n",
    "shap.initjs()\n",
    "\n",
    "# transform the indexes to words\n",
    "import numpy as np\n",
    "words = imdb.get_word_index()\n",
    "num2word = {}\n",
    "for w in words.keys():\n",
    "    num2word[words[w]] = w\n",
    "x_test_words = np.stack([np.array(list(map(lambda x: num2word.get(x, \"NONE\"), x_test[i]))) for i in range(10)])\n",
    "\n",
    "# plot the explanation of the first prediction\n",
    "# Note the model is \"multi-output\" because it is rank-2 but only has one column\n",
    "shap.force_plot(explainer.expected_value[0], shap_values[0][0], x_test_words[0])"
   ]
  },
  {
   "cell_type": "code",
   "execution_count": null,
   "id": "618fb551",
   "metadata": {},
   "outputs": [],
   "source": [
    "x_test_words"
   ]
  },
  {
   "cell_type": "code",
   "execution_count": null,
   "id": "551a2782",
   "metadata": {},
   "outputs": [],
   "source": []
  }
 ],
 "metadata": {
  "kernelspec": {
   "display_name": "Python 3.6 - AzureML",
   "language": "python",
   "name": "python3-azureml"
  },
  "language_info": {
   "codemirror_mode": {
    "name": "ipython",
    "version": 3
   },
   "file_extension": ".py",
   "mimetype": "text/x-python",
   "name": "python",
   "nbconvert_exporter": "python",
   "pygments_lexer": "ipython3",
   "version": "3.6.9"
  }
 },
 "nbformat": 4,
 "nbformat_minor": 5
}
